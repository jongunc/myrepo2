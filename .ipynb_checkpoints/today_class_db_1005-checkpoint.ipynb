{
 "cells": [
  {
   "cell_type": "code",
   "execution_count": 1,
   "metadata": {},
   "outputs": [],
   "source": [
    "import sqlite3"
   ]
  },
  {
   "cell_type": "code",
   "execution_count": 2,
   "metadata": {},
   "outputs": [
    {
     "data": {
      "text/plain": [
       "<sqlite3.Connection at 0x219371fc570>"
      ]
     },
     "execution_count": 2,
     "metadata": {},
     "output_type": "execute_result"
    }
   ],
   "source": [
    "conn = sqlite3.connect('student.db')\n",
    "conn"
   ]
  },
  {
   "cell_type": "code",
   "execution_count": 3,
   "metadata": {},
   "outputs": [],
   "source": [
    "sql = \"\"\"\n",
    " CREATE TABLE student\n",
    " (\n",
    " name text,\n",
    " no integer,\n",
    " addr text,\n",
    " gender text\n",
    " )\n",
    "\"\"\"\n",
    "\n",
    "c = conn.cursor() # Connetion 객체를 이용하여 cursor를 만든다.\n",
    "c.execute(\"DROP TABLE IF EXISTS student\") # student가 있으면 삭제해라.\n",
    "c.execute(sql) # 테이블 생성.\n",
    "c.close()\n"
   ]
  },
  {
   "cell_type": "code",
   "execution_count": 4,
   "metadata": {},
   "outputs": [],
   "source": [
    "sql = \"\"\"\n",
    "     INSERT INTO student VALUES\n",
    "        ('학생1', 1, \"서울 강남구 일원동\", 'male')\n",
    "\"\"\"\n",
    "c = conn.cursor() # 객체 생성\n",
    "c.execute(sql)\n",
    "c.close()\n",
    "conn.commit()"
   ]
  },
  {
   "cell_type": "code",
   "execution_count": 5,
   "metadata": {},
   "outputs": [
    {
     "name": "stdout",
     "output_type": "stream",
     "text": [
      "('학생1', 1, '서울 강남구 일원동', 'male')\n"
     ]
    }
   ],
   "source": [
    "sql = 'select * from student'\n",
    "c = conn.cursor()\n",
    "c.execute(sql)\n",
    "# 하나의 데이터\n",
    "print(c.fetchone())"
   ]
  },
  {
   "cell_type": "code",
   "execution_count": 15,
   "metadata": {},
   "outputs": [
    {
     "ename": "IndentationError",
     "evalue": "unexpected indent (<ipython-input-15-c2a7ba86d412>, line 2)",
     "output_type": "error",
     "traceback": [
      "\u001b[1;36m  File \u001b[1;32m\"<ipython-input-15-c2a7ba86d412>\"\u001b[1;36m, line \u001b[1;32m2\u001b[0m\n\u001b[1;33m    * 테이블명 : student1\u001b[0m\n\u001b[1;37m    ^\u001b[0m\n\u001b[1;31mIndentationError\u001b[0m\u001b[1;31m:\u001b[0m unexpected indent\n"
     ]
    }
   ],
   "source": [
    "### 실습 1 table을 하나 만든다.\n",
    "        * 테이블명 : student1\n",
    "        * 컬럼 name(text), korea(정수), math, english\n",
    "        * 데이터를 하나넣고\n",
    "        * 불러오기\n",
    "\n"
   ]
  },
  {
   "cell_type": "code",
   "execution_count": 20,
   "metadata": {},
   "outputs": [
    {
     "data": {
      "text/plain": [
       "<sqlite3.Connection at 0x219371fc9d0>"
      ]
     },
     "execution_count": 20,
     "metadata": {},
     "output_type": "execute_result"
    }
   ],
   "source": [
    "conn = sqlite3.connect('student1.db')\n",
    "conn"
   ]
  },
  {
   "cell_type": "code",
   "execution_count": 21,
   "metadata": {},
   "outputs": [],
   "source": [
    "sql = \"\"\"\n",
    " CREATE TABLE student1\n",
    " (\n",
    " name text,\n",
    " korea integer,\n",
    " math integer,\n",
    " english integer\n",
    " )\n",
    "\"\"\"\n",
    "\n",
    "c = conn.cursor() # Connetion 객체를 이용하여 cursor를 만든다.\n",
    "c.execute(\"DROP TABLE IF EXISTS student1\") # student가 있으면 삭제해라.\n",
    "c.execute(sql) # 테이블 생성.\n",
    "c.close()"
   ]
  },
  {
   "cell_type": "code",
   "execution_count": 22,
   "metadata": {},
   "outputs": [],
   "source": [
    "sql = \"\"\"\n",
    "     INSERT INTO student1 VALUES\n",
    "        ('최종운', 100, 90, 80)\n",
    "\"\"\"\n",
    "c = conn.cursor() # 객체 생성\n",
    "c.execute(sql)\n",
    "c.close()\n",
    "conn.commit()"
   ]
  },
  {
   "cell_type": "code",
   "execution_count": 23,
   "metadata": {},
   "outputs": [
    {
     "name": "stdout",
     "output_type": "stream",
     "text": [
      "('최종운', 100, 90, 80)\n"
     ]
    }
   ],
   "source": [
    "sql = 'select * from student1'\n",
    "c = conn.cursor()\n",
    "c.execute(sql)\n",
    "# 하나의 데이터\n",
    "print(c.fetchone())"
   ]
  },
  {
   "cell_type": "code",
   "execution_count": 24,
   "metadata": {},
   "outputs": [],
   "source": [
    "## history 2020/10/05"
   ]
  },
  {
   "cell_type": "code",
   "execution_count": null,
   "metadata": {},
   "outputs": [],
   "source": []
  }
 ],
 "metadata": {
  "kernelspec": {
   "display_name": "Python 3",
   "language": "python",
   "name": "python3"
  },
  "language_info": {
   "codemirror_mode": {
    "name": "ipython",
    "version": 3
   },
   "file_extension": ".py",
   "mimetype": "text/x-python",
   "name": "python",
   "nbconvert_exporter": "python",
   "pygments_lexer": "ipython3",
   "version": "3.7.6"
  }
 },
 "nbformat": 4,
 "nbformat_minor": 4
}

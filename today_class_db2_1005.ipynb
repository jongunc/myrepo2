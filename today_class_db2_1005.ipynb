{
 "cells": [
  {
   "cell_type": "code",
   "execution_count": 1,
   "metadata": {},
   "outputs": [],
   "source": [
    "import sqlite3\n"
   ]
  },
  {
   "cell_type": "code",
   "execution_count": 2,
   "metadata": {},
   "outputs": [
    {
     "data": {
      "text/plain": [
       "<sqlite3.Connection at 0x2bb8420c490>"
      ]
     },
     "execution_count": 2,
     "metadata": {},
     "output_type": "execute_result"
    }
   ],
   "source": [
    "conn = sqlite3.connect('student.db')\n",
    "conn\n"
   ]
  },
  {
   "cell_type": "code",
   "execution_count": 3,
   "metadata": {},
   "outputs": [],
   "source": [
    "sql = \"\"\"\n",
    " CREATE TABLE student\n",
    " ( \n",
    " name text,\n",
    " no integer,\n",
    " addr text,\n",
    " gender text\n",
    " )\n",
    "\"\"\"\n",
    "\n",
    "c = conn.cursor()\n",
    "c.execute(\"DROP TABLE IF EXISTS student\")\n",
    "c.execute(sql)\n",
    "c.close()\n"
   ]
  },
  {
   "cell_type": "code",
   "execution_count": 27,
   "metadata": {},
   "outputs": [],
   "source": [
    "sql = \"\"\"\n",
    " INSERT INTO student VALUES\n",
    " (?, ?, ?, ?)\n",
    "\"\"\"\n",
    "c = conn.cursor() # 객체 생성\n",
    "c.execute(sql, ('학생2', 2, '안양', 'female'))\n",
    "data = [\n",
    " ('학생3', 3, '경기도', 'female'),\n",
    " ('학생4', 4, '춘천', 'female'),\n",
    " ('학생5', 5, '대구', 'male')\n",
    "]\n",
    "c.executemany(sql, data)\n",
    "c.close()\n",
    "conn.commit()"
   ]
  },
  {
   "cell_type": "code",
   "execution_count": 29,
   "metadata": {},
   "outputs": [
    {
     "name": "stdout",
     "output_type": "stream",
     "text": [
      "('최종운', 100, 90, 80)\n"
     ]
    }
   ],
   "source": [
    "sql = 'select * from student1'\n",
    "c = conn.cursor()\n",
    "c.execute(sql)\n",
    "# 하나의 데이터 확인\n",
    "print( c.fetchone() )"
   ]
  },
  {
   "cell_type": "code",
   "execution_count": 26,
   "metadata": {},
   "outputs": [
    {
     "name": "stdout",
     "output_type": "stream",
     "text": [
      "('학생2', 2, '안양', 'female')\n",
      "('학생2', 2, '안양', 'female')\n",
      "('학생2', 2, '안양', 'female')\n",
      "('학생2', 2, '안양', 'female')\n",
      "('학생3', 3, '경기도', 'female')\n",
      "('학생4', 4, '춘천', 'female')\n",
      "('학생5', 5, '대구', 'male')\n",
      "('학생6', 6, '강릉', 'male')\n",
      "('학생7', 7, '서울', 'male')\n",
      "('학생8', 8, '경북', 'male')\n"
     ]
    }
   ],
   "source": [
    "for s in c.fetchmany(10):\n",
    " print(s)"
   ]
  },
  {
   "cell_type": "code",
   "execution_count": 10,
   "metadata": {},
   "outputs": [
    {
     "name": "stdout",
     "output_type": "stream",
     "text": [
      "('학생2', 2, '안양', 'female')\n",
      "('학생3', 3, '경기도', 'female')\n",
      "('학생4', 4, '춘천', 'female')\n",
      "('학생5', 5, '대구', 'male')\n"
     ]
    }
   ],
   "source": [
    "sql = 'select * from student'\n",
    "c = conn.cursor()\n",
    "c.execute(sql)\n",
    "for s in c.fetchall():\n",
    " print(s)"
   ]
  },
  {
   "cell_type": "code",
   "execution_count": 11,
   "metadata": {},
   "outputs": [
    {
     "ename": "SyntaxError",
     "evalue": "invalid syntax (<ipython-input-11-aca622130bef>, line 2)",
     "output_type": "error",
     "traceback": [
      "\u001b[1;36m  File \u001b[1;32m\"<ipython-input-11-aca622130bef>\"\u001b[1;36m, line \u001b[1;32m2\u001b[0m\n\u001b[1;33m    * student1 안에 데이터를 7개 넣고\u001b[0m\n\u001b[1;37m                ^\u001b[0m\n\u001b[1;31mSyntaxError\u001b[0m\u001b[1;31m:\u001b[0m invalid syntax\n"
     ]
    }
   ],
   "source": [
    "#### 실습 3-1\n",
    "* student1 안에 데이터를 7개 넣고\n",
    "* 첫번째 방법, fetchmany(10) 검색해보기\n",
    "* 두번째 방법, fetchall() 검색해보기"
   ]
  },
  {
   "cell_type": "code",
   "execution_count": 12,
   "metadata": {},
   "outputs": [
    {
     "data": {
      "text/plain": [
       "<sqlite3.Connection at 0x2bb8420c8f0>"
      ]
     },
     "execution_count": 12,
     "metadata": {},
     "output_type": "execute_result"
    }
   ],
   "source": [
    "conn = sqlite3.connect('student1.db')\n",
    "conn\n"
   ]
  },
  {
   "cell_type": "code",
   "execution_count": 13,
   "metadata": {},
   "outputs": [],
   "source": [
    "sql = \"\"\"\n",
    " CREATE TABLE student1\n",
    " ( \n",
    " name text,\n",
    " no integer,\n",
    " addr text,\n",
    " gender text\n",
    " )\n",
    "\"\"\"\n",
    "\n",
    "c = conn.cursor()\n",
    "c.execute(\"DROP TABLE IF EXISTS student1\")\n",
    "c.execute(sql)\n",
    "c.close()"
   ]
  },
  {
   "cell_type": "code",
   "execution_count": 19,
   "metadata": {},
   "outputs": [],
   "source": [
    "sql = \"\"\"\n",
    " INSERT INTO student1 VALUES\n",
    " (?, ?, ?, ?)\n",
    "\"\"\"\n",
    "c = conn.cursor() # 객체 생성\n",
    "c.execute(sql, ('학생2', 2, '안양', 'female'))\n",
    "data = [\n",
    " ('학생3', 3, '경기도', 'female'),\n",
    " ('학생4', 4, '춘천', 'female'),\n",
    " ('학생5', 5, '대구', 'male'),\n",
    " ('학생6', 6, '강릉', 'male'),\n",
    " ('학생7', 7, '서울', 'male'),\n",
    " ('학생8', 8, '경북', 'male'),\n",
    " ('학생9', 9, '삼척', 'male')\n",
    "]\n",
    "\n",
    "c.executemany(sql, data)\n",
    "c.close()\n",
    "conn.commit()"
   ]
  },
  {
   "cell_type": "code",
   "execution_count": 24,
   "metadata": {},
   "outputs": [
    {
     "name": "stdout",
     "output_type": "stream",
     "text": [
      "('최종운', 100, 90, 80)\n"
     ]
    }
   ],
   "source": [
    "sql = 'select * from student1'\n",
    "c = conn.cursor()\n",
    "c.execute(sql)\n",
    "# 하나의 데이터 확인\n",
    "print( c.fetchone() )"
   ]
  },
  {
   "cell_type": "code",
   "execution_count": 21,
   "metadata": {},
   "outputs": [
    {
     "name": "stdout",
     "output_type": "stream",
     "text": [
      "('학생2', 2, '안양', 'female')\n",
      "('학생2', 2, '안양', 'female')\n",
      "('학생2', 2, '안양', 'female')\n",
      "('학생2', 2, '안양', 'female')\n",
      "('학생3', 3, '경기도', 'female')\n",
      "('학생4', 4, '춘천', 'female')\n",
      "('학생5', 5, '대구', 'male')\n",
      "('학생6', 6, '강릉', 'male')\n",
      "('학생7', 7, '서울', 'male')\n",
      "('학생8', 8, '경북', 'male')\n"
     ]
    }
   ],
   "source": [
    "for s in c.fetchmany(10):\n",
    " print(s)"
   ]
  },
  {
   "cell_type": "code",
   "execution_count": 23,
   "metadata": {},
   "outputs": [
    {
     "name": "stdout",
     "output_type": "stream",
     "text": [
      "('최종운', 100, 90, 80)\n",
      "('학생2', 2, '안양', 'female')\n",
      "('학생2', 2, '안양', 'female')\n",
      "('학생2', 2, '안양', 'female')\n",
      "('학생2', 2, '안양', 'female')\n",
      "('학생3', 3, '경기도', 'female')\n",
      "('학생4', 4, '춘천', 'female')\n",
      "('학생5', 5, '대구', 'male')\n",
      "('학생6', 6, '강릉', 'male')\n",
      "('학생7', 7, '서울', 'male')\n",
      "('학생8', 8, '경북', 'male')\n",
      "('학생9', 9, '삼척', 'male')\n",
      "('학생2', 2, '안양', 'female')\n",
      "('학생3', 3, '경기도', 'female')\n",
      "('학생4', 4, '춘천', 'female')\n",
      "('학생5', 5, '대구', 'male')\n",
      "('학생6', 6, '강릉', 'male')\n",
      "('학생7', 7, '서울', 'male')\n",
      "('학생8', 8, '경북', 'male')\n",
      "('학생9', 9, '삼척', 'male')\n"
     ]
    }
   ],
   "source": [
    "sql = 'select * from student1'\n",
    "c = conn.cursor()\n",
    "c.execute(sql)\n",
    "for s in c.fetchall():\n",
    " print(s)"
   ]
  },
  {
   "cell_type": "code",
   "execution_count": null,
   "metadata": {},
   "outputs": [],
   "source": []
  }
 ],
 "metadata": {
  "kernelspec": {
   "display_name": "Python 3",
   "language": "python",
   "name": "python3"
  },
  "language_info": {
   "codemirror_mode": {
    "name": "ipython",
    "version": 3
   },
   "file_extension": ".py",
   "mimetype": "text/x-python",
   "name": "python",
   "nbconvert_exporter": "python",
   "pygments_lexer": "ipython3",
   "version": "3.7.6"
  }
 },
 "nbformat": 4,
 "nbformat_minor": 4
}
